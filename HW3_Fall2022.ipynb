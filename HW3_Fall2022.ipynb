{
 "cells": [
  {
   "cell_type": "markdown",
   "id": "f39f9a0f",
   "metadata": {},
   "source": [
    "# DATA 601: HW3\n",
    "\n",
    "\n",
    "\n",
    "**Learning Objectives**\n",
    "- Work with realworld datasets that can be compared to a model.\n",
    "- Apply vectorization concepts to iterative problems.\n",
    "- Explore different programming paradigms to solve problems.\n",
    "\n",
    "_This is an individual homework assignment._ \n",
    "\n",
    "Please complete this homework assignment within the Jupypter notebook environment, and provide your answers where indicated.\n",
    "\n",
    "#### Submission \n",
    "\n",
    "Your submission will be manually tested and graded. In order to ensure that everything goes smoothly, please ensure that: \n",
    "\n",
    "- your notebook runs on the Data Science Hub environment, \n",
    "- you have provided your solutions where asked without altering any other parts of this notebook,\n",
    "\n",
    "_You do not need to submit the datasets provided for this homework._\n"
   ]
  },
  {
   "cell_type": "markdown",
   "id": "feacf512",
   "metadata": {},
   "source": [
    "## Warm up\n",
    "\n",
    "In this notebook, we'll use file input/output operations provided by Python to read in data from text files. The function needed to read data is provided in the code cell below. You may wish to review the following section from the Python Tutorial:  \n",
    "\n",
    "- [Reading and Writing Files](https://docs.python.org/3/tutorial/inputoutput.html#reading-and-writing-files)"
   ]
  },
  {
   "cell_type": "code",
   "execution_count": null,
   "id": "e037eae8",
   "metadata": {},
   "outputs": [],
   "source": [
    "import re\n",
    "\n",
    "def fileToList( fname, regexp=r'\\W+' ):\n",
    "    '''Read text from a file using the provided regular expression. If no regular expression is provided, \n",
    "    the default behaviour is to split the text into words removing any punctuation and empty strings. \n",
    "    The resulting words are returned in a list.'''\n",
    "    file = open(fname, 'rt', encoding='utf8')\n",
    "    text = file.read()\n",
    "    file.close()\n",
    "    # split based on provided regular expression and remove empty strings\n",
    "    # By default, matches words.\n",
    "    return [x for x in re.split(regexp, text) if x]"
   ]
  },
  {
   "cell_type": "markdown",
   "id": "d6a4bad1",
   "metadata": {},
   "source": [
    "<!-- BEGIN QUESTION -->\n",
    "\n",
    "## Question 1 (15 points)\n",
    "\n",
    "### Comparing empirically determined frequencies to a model \n",
    "\n",
    "##### Motivation: \n",
    "It is useful to compare a theoretical distribution visually with a data set to examine if an assumptions about the data is true, this problem provides you an exercises in this comparison.\n",
    "\n",
    "##### Tools: \n",
    "For this question you may use `NumPy` and `matplotlib`. You may also use any built-in data structures or functions. However, please do not use `pandas`. \n",
    "\n",
    "##### Overview:\n",
    "This question asks you to perform a frequency analysis on the first letter of words in the novel \"Moby Dick\" by Herman Melville, and compare the result with the first letter law (FLL) inspired by Benford's law. For visual comparison, you are asked to graph the result obtained along with the theoretical result to determine how closely the results match.\n",
    "\n",
    " \n",
    "##### Background: \n",
    "\n",
    "[Benford’s law](https://en.wikipedia.org/wiki/Benford%27s_law) describes the expected frequency of the leading digit in a set of numbers. Inspired by this law, [Yan et al. (2018)](https://www.sciencedirect.com/science/article/pii/S0378437118310768) have recently proposed a First Letter Law (FLL) that predicts the percentages of first letters in novels. \n",
    "\n",
    "An overview of FLL in the context of the English language (26 letters) is as follows.\n",
    "\n",
    "The probability $p_i$ of the $i$-th ($1 \\le i \\le 26$) most frequently occurring letter in a novel is given by:\n",
    "$$\n",
    "p_i = \\frac{26 - 25\\log_{26}25 - i \\log_{26} i + (i-1) \\log_{26} (i-1)}\n",
    "           {26 \\cdot 25 \\log_{26} (\\tfrac{26}{25})}\n",
    "$$\n",
    "\n",
    "For example, the most frequently occurring letter ($i=1$) in an English novel appears with probability:\n",
    "$$\n",
    "p_1 = \\frac{1 + 25 \\log_{26}(\\tfrac{26}{25})}{26 \\cdot 25 \\log_{26}(\\tfrac{26}{25})}.\n",
    "$$\n",
    "\n",
    "For more details, please consult:\n",
    "\n",
    " - _Benford's Law and First Letter of Word_, Xiaoyong Yan, Seong-Gyu Yang, Beom Jun Kim, Petter Minnhagen (Dec. 2017) [arXiv:1712.06074](https://doi.org/10.48550/arXiv.1712.06074)\n",
    "\n",
    "\n",
    "##### Process: \n",
    "\n",
    "##### Step 0)\n",
    "\n",
    "Reflect on the data. \n",
    "- Do you think the novel Moby Dick will exhibit the First Letter Law? Why/why not? "
   ]
  },
  {
   "cell_type": "markdown",
   "id": "dfd8c8a6",
   "metadata": {},
   "source": [
    "_Type your answer here, replacing this text._"
   ]
  },
  {
   "cell_type": "markdown",
   "id": "07c623f6",
   "metadata": {
    "tags": []
   },
   "source": [
    "##### Step 1) \n",
    "- Read in the relevant data:\n",
    "\n",
    "    Use the function `fileToList` (defined above) to read the text file corresponding to the novel Moby Dick (data courtesy of [Project Gutenberg](https://www.gutenberg.org/ebooks/2701)). Please use the function's default behaviour, i.e. you do not need to supply a regular expression.\n",
    "\n",
    "Now perform the following tasks. \n",
    "\n",
    "- Convert all words to lower case.\n",
    "- For each word, retain only the first letter, drop any word that does not start with a letter ([a-z]).\n",
    "- Determine the frequency of each of the letters `a` through `z`.\n",
    "- Calculate the probability of each of the letters occurring in the novel (as first letters) by using the formula $p=frequency/total$.\n",
    "- Sort the probabilities in descending order. This will give you $p_i$.\n",
    "- Plot the probability distribution, with $i$ on the horizontal axis and probability on the vertical axis. Also indicate the _rank_ of the letters (which letter is the most frequent, second-most frequent, and so on).\n",
    "- On the same plot include a plot of the First Letter Law. \n",
    "\n",
    "##### Return data types\n",
    "- For the counts the data type should be an integer\n",
    "- For the probabilities the data type should be a float\n",
    "\n",
    "##### Hints:\n",
    "- You may use `NumPy`, in fact it is recommended. Remember `NumPy` arrays are indexed and you can create an array of `n` zeros using `np.zeros(n)`.\n",
    "- Use the fact that $(i-1) \\log_{26}(i-1)$ for $i=1$ is $0$ to avoid numerical issues when evaluating the FLL formula.\n",
    "- Independent Probability is defined as the frequency of a particular event divided by the total number of events.\n",
    "- You can do calculations in line using `NumPy` in `matplotlib`.\n",
    "\n",
    "\n",
    "Please provide your solution below."
   ]
  },
  {
   "cell_type": "code",
   "execution_count": null,
   "id": "028dcdd7",
   "metadata": {
    "tags": []
   },
   "outputs": [],
   "source": [
    "...\n"
   ]
  },
  {
   "cell_type": "markdown",
   "id": "f5606dd1",
   "metadata": {},
   "source": [
    "##### Step 2) \n",
    "\n",
    "Calculate the Mean Square Error (MSE) between the distribution your obtained and the one given by the FLL. For this problem, the MSE is given by:\n",
    "$$\n",
    "\\text{MSE} = \\frac{1}{26} \\sum_{i=1}^{26} (p_i - \\hat{p}_i),\n",
    "$$\n",
    "where $p_i$ is the probability given by the FLL and $\\hat{p}_i$ is the probability determined from the data. "
   ]
  },
  {
   "cell_type": "code",
   "execution_count": null,
   "id": "0bedef6e",
   "metadata": {
    "tags": []
   },
   "outputs": [],
   "source": [
    "..."
   ]
  },
  {
   "cell_type": "markdown",
   "id": "66257193",
   "metadata": {},
   "source": [
    "##### Step 3)\n",
    "\n",
    "Comment on your plot and the numerical value of the MSE obtained above. Is the result as expected? Why/Why not? "
   ]
  },
  {
   "cell_type": "markdown",
   "id": "899cc546",
   "metadata": {},
   "source": [
    "_Provide your answer in this cell, replacing this text_"
   ]
  },
  {
   "cell_type": "markdown",
   "id": "5b713fa7",
   "metadata": {},
   "source": [
    "<!-- END QUESTION -->\n",
    "\n",
    "## Question 2 (15 points):\n",
    "\n",
    "### Visualizing Trends in an Index\n",
    "\n",
    "\n",
    "###### Motivation: \n",
    "This exercise is intended to help you explore and consider the time scale that is used to present data. This question explores graphing data over different time intervals.\n",
    "\n",
    "###### Tools: \n",
    "For this question you may use NumPy and matplotlib. You may also use any built-in data structures or functions,  Please do not use `pandas`.\n",
    "\n",
    "\n",
    "##### Problem:\n",
    "In this exercise you will plot the [Air Quality Index](https://aqicn.org/data-platform/register/) (Pm25) along with 7-day and 14-day averages. The provided dataset (in csv format) contains the daily average air quality for the Calgary central monitoring location from Sep. 01, 2020 to Aug 31, 2021 (data obtained from https://aqicn.org/data-platform/register/). \n",
    "\n",
    "###### Step 0)\n",
    "\n",
    "Reflect on the data. What are some of its limitations? (Name two.)"
   ]
  },
  {
   "cell_type": "markdown",
   "id": "6e93f1df",
   "metadata": {},
   "source": [
    "_Type your answer here, replacing this text._"
   ]
  },
  {
   "cell_type": "markdown",
   "id": "039b7065",
   "metadata": {},
   "source": [
    "##### Steps: \n",
    "- Read the dataset using the `fileToList` function defined above. For this question, use the regular expression `r'[,\\r\\n]+'` rather than the default. Inspect the result and familiarize yourself with the content of the returned list.\n",
    "- Observe that the average values are at a daily interval, and that all days have a value recorded. We therefore do not need the date information. Clean up the data and only retain the air quality information. Store the result in a list or a `numpy` array in floating point format.\n",
    "- Recall that a [simple moving average](https://en.wikipedia.org/wiki/Moving_average#Simple_moving_average) is defined as the (unweighted) mean over the previous $N$ days.<br> \n",
    "Determine the simple moving average of the air quality. The number of days $N$ to average over should be adjustable. If you are using `numpy`, you may find the function [`np.convolve`](https://docs.scipy.org/doc/numpy/reference/generated/numpy.convolve.html) helpful.  \n",
    "- Plot the raw air quality index data along with 7-day and 14-day simple moving average. Plot on the same figure in order to help you visually ascertain the effect of the filter.\n",
    "\n",
    "##### Return data types:\n",
    "- The Floating averages should be presented as intergers\n",
    "\n",
    "\n",
    "##### Hints:\n",
    "- Generators can be very useful in some situations\n",
    "- Use plt.legend to create a legend for your plot\n",
    "- If you get stuck try referring to relevant documentation\n",
    "\n",
    "Please provide your solution below."
   ]
  },
  {
   "cell_type": "code",
   "execution_count": null,
   "id": "8cb15e96",
   "metadata": {},
   "outputs": [],
   "source": [
    "..."
   ]
  },
  {
   "cell_type": "markdown",
   "id": "d67bc5d2",
   "metadata": {},
   "source": [
    "\n",
    "\n",
    "Please use the Markdown cell below to answer the following questions.\n",
    "\n",
    "- Describe algorithmically how you set out to calculate the moving average. What was your process?\n",
    "- What is the effect of the moving average filter? \n",
    "- In what circumstances would you _not_ want to use a moving average? Do you think that the moving average is appropriate in this case? \n",
    "\n",
    "\n"
   ]
  },
  {
   "cell_type": "markdown",
   "id": "531fae49",
   "metadata": {},
   "source": [
    "_Type your answer here, replacing this text._"
   ]
  }
 ],
 "metadata": {
  "kernelspec": {
   "display_name": "Python 3 (ipykernel)",
   "language": "python",
   "name": "python3"
  },
  "language_info": {
   "codemirror_mode": {
    "name": "ipython",
    "version": 3
   },
   "file_extension": ".py",
   "mimetype": "text/x-python",
   "name": "python",
   "nbconvert_exporter": "python",
   "pygments_lexer": "ipython3",
   "version": "3.10.5"
  },
  "otter": {
   "OK_FORMAT": true,
   "tests": {}
  }
 },
 "nbformat": 4,
 "nbformat_minor": 5
}
