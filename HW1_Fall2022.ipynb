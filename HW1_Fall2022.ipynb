{
 "cells": [
  {
   "cell_type": "code",
   "execution_count": 4,
   "id": "23875979",
   "metadata": {
    "deletable": false,
    "editable": false
   },
   "outputs": [],
   "source": [
    "# Initialize Otter\n",
    "import otter\n",
    "grader = otter.Notebook(\"HW1_Fall2022.ipynb\")"
   ]
  },
  {
   "cell_type": "markdown",
   "id": "4e247b63-7ad2-4319-8a7b-8417763a3a5e",
   "metadata": {},
   "source": [
    "Name: An Yan\n",
    "Student Number:30167924"
   ]
  },
  {
   "cell_type": "markdown",
   "id": "84d4e056-8ba9-423c-93c5-a585baf32705",
   "metadata": {},
   "source": [
    "# DATA 601\n",
    "\n",
    "## HW1\n",
    "\n",
    "\n",
    "**Learning Objectives**\n",
    "\n",
    "- Explore built-in data types in Python.\n",
    "- Review fundamental programming and problem solving concepts with Python.\n",
    "- Implement functions based on mathematical concepts and definitions.\n",
    "- Gain experience working with the Jupyter notebook environment.\n",
    "\n",
    "_This is an individual homework assignment._ \n",
    "\n",
    "Please complete this homework assignment within the Jupypter notebook environment.  \n",
    "\n",
    "#### Submission \n",
    "\n",
    "In order to ensure that everything goes smoothly, and is easy to grade please follow these instructions:\n",
    "\n",
    "- Please provide your solutions where asked; please do not alter any other parts of this notebook.\n"
   ]
  },
  {
   "cell_type": "markdown",
   "id": "a3b07731",
   "metadata": {},
   "source": [
    "#### <font color='red'> Note: Passing the provided test-cases doesn't guarantee points. We check your code with other test-cases for grading.</font> "
   ]
  },
  {
   "cell_type": "code",
   "execution_count": 2,
   "id": "f4a124a1",
   "metadata": {},
   "outputs": [],
   "source": [
    "# Check that we are using a recent version of Jupyter.\n",
    "import IPython\n",
    "assert IPython.version_info[0] >= 3, \"Your version of IPython is too old, please update it.\""
   ]
  },
  {
   "cell_type": "markdown",
   "id": "40b8d3ad",
   "metadata": {},
   "source": [
    "## Part A\n",
    "\n",
    "This part focuses on scalar types. You should be able to complete the following questions without using any collection types."
   ]
  },
  {
   "cell_type": "markdown",
   "id": "25044189",
   "metadata": {},
   "source": [
    "### Question 1\n",
    "\n",
    "The central bionomial coefficients form a vertical row down the middle of Pascal's triangle. They can be calculated via the following formula:\n",
    "\n",
    "$$\n",
    "{2n\\choose n} = \\frac{(2n)!}{(n!)^2} = \\prod_{k=1}^{n} \\frac{n+k}{k}  \n",
    "$$\n",
    "\n",
    "Write a function that calculates the nth central bionomial coefficient. You may use in-built functions to calculate the factorials.\n",
    "\n",
    "(3 points)"
   ]
  },
  {
   "cell_type": "code",
   "execution_count": 81,
   "id": "533455c8",
   "metadata": {
    "tags": []
   },
   "outputs": [],
   "source": [
    "import math\n",
    "def cent_binomial_coef(n):\n",
    "    '''Returns the n-th binomial coefficient for an input\n",
    "    integer n.\n",
    "    '''\n",
    "    num=0\n",
    "    if n==0:\n",
    "        return 1\n",
    "    else:\n",
    "        for i in range(0, n):\n",
    "            num=(math.factorial(2*n))/((math.factorial(n))**2)\n",
    "    return num\n",
    "    ..."
   ]
  },
  {
   "cell_type": "code",
   "execution_count": 82,
   "id": "57b6e467",
   "metadata": {
    "deletable": false,
    "editable": false
   },
   "outputs": [
    {
     "data": {
      "text/html": [
       "<p><strong><pre style='display: inline;'>q1_a</pre></strong> passed!</p>"
      ],
      "text/plain": [
       "q1_a results: All test cases passed!"
      ]
     },
     "execution_count": 82,
     "metadata": {},
     "output_type": "execute_result"
    }
   ],
   "source": [
    "grader.check(\"q1_a\")"
   ]
  },
  {
   "cell_type": "markdown",
   "id": "062527f4",
   "metadata": {},
   "source": [
    "### Question 2\n",
    "\n",
    "Write a function that determines whether an integer is prime. You may not use built-in functions to determine this directly.\n",
    "\n",
    "(8 points)"
   ]
  },
  {
   "cell_type": "code",
   "execution_count": 83,
   "id": "465becd4",
   "metadata": {
    "tags": []
   },
   "outputs": [],
   "source": [
    "def is_prime(n):\n",
    "    '''For a positive integer n, returns True if n is a \n",
    "    prime number, False otherwise.\n",
    "    '''\n",
    "    for i in range(2, n):\n",
    "        if n%i==0:\n",
    "            return False\n",
    "    return True\n",
    "    ..."
   ]
  },
  {
   "cell_type": "code",
   "execution_count": 84,
   "id": "f75d6110",
   "metadata": {
    "deletable": false,
    "editable": false
   },
   "outputs": [
    {
     "data": {
      "text/html": [
       "<p><strong><pre style='display: inline;'>q2_a</pre></strong> passed!</p>"
      ],
      "text/plain": [
       "q2_a results: All test cases passed!"
      ]
     },
     "execution_count": 84,
     "metadata": {},
     "output_type": "execute_result"
    }
   ],
   "source": [
    "grader.check(\"q2_a\")"
   ]
  },
  {
   "cell_type": "markdown",
   "id": "edd9070f",
   "metadata": {},
   "source": [
    "##### Question 3\n",
    "\n",
    "(5 points)\n",
    "\n",
    "Many things in nature can be modeled by the exponential growth function: \n",
    "$$\n",
    "P(t) = \\alpha \\beta^{\\frac{t}{\\tau}},\n",
    "$$\n",
    "where $\\alpha$ is the initial population, $\\beta$ is the growth rate factor, t is the time passed, and $\\tau$ is the time constant. \n",
    "\n",
    "Imagine that you are an entomologist on the plant Zergo. There is a small insect of interest to you on this planet which has an exponential growth rate. From experimentation you determine that: \n",
    "$\\beta= \\sqrt\\frac{5}{4}$,  and $\\tau= 2^{\\frac{1}{3}}$.\n",
    "\n",
    "Starting with a population $\\alpha$ of 10, use this formula to compute $P(t)$ in the function `population(t)` below. \n",
    "\n",
    "<!--\n",
    "BEGIN QUESTION\n",
    "name: A3\n",
    "manual: true\n",
    "points: 2\n",
    "-->"
   ]
  },
  {
   "cell_type": "code",
   "execution_count": 85,
   "id": "9978da02",
   "metadata": {
    "tags": []
   },
   "outputs": [],
   "source": [
    "import math\n",
    "def population(t):\n",
    "    '''Computes the population at time t, where t is a positive float, \n",
    "    and returns the population as an integer (floor value). \n",
    "    It is assumed that time is in minutes and that all parameters\n",
    "    are correct for this assumption.\n",
    "    '''\n",
    "    alpha=10\n",
    "    beta=math.sqrt(5/4)\n",
    "    tao=2**(1/3)\n",
    "    result=alpha*(beta**(t/tao))\n",
    "    return math.floor(result)\n",
    "    ..."
   ]
  },
  {
   "cell_type": "code",
   "execution_count": 86,
   "id": "d3bf5308",
   "metadata": {
    "deletable": false,
    "editable": false
   },
   "outputs": [
    {
     "data": {
      "text/html": [
       "<p><strong><pre style='display: inline;'>q3_a</pre></strong> passed!</p>"
      ],
      "text/plain": [
       "q3_a results: All test cases passed!"
      ]
     },
     "execution_count": 86,
     "metadata": {},
     "output_type": "execute_result"
    }
   ],
   "source": [
    "grader.check(\"q3_a\")"
   ]
  },
  {
   "cell_type": "markdown",
   "id": "bb99f433",
   "metadata": {},
   "source": [
    "## Part B\n",
    "\n",
    "Questions in this part rely on strings, lists, and tuples."
   ]
  },
  {
   "cell_type": "markdown",
   "id": "71641aa9",
   "metadata": {},
   "source": [
    "### Question 1\n",
    "\n",
    "Consider the lists $a=[2,1,2,5,3,1]$ and $b=[2,1,7,1]$. The intersection of these lists, $a \\cap b$, is $[1,1,2]$. Write a function that returns the intersection of two arbitrary lists. You may not use built-in set operations, and should pay attention to duplicates.\n",
    "\n",
    "(5 points)\n"
   ]
  },
  {
   "cell_type": "code",
   "execution_count": 87,
   "id": "100455c0",
   "metadata": {
    "tags": []
   },
   "outputs": [],
   "source": [
    "def intersection_list(a,b):\n",
    "    '''\n",
    "    Returns the intersection of two lists a and b. \n",
    "    \n",
    "    '''\n",
    "    res=[]\n",
    "    for i in a:\n",
    "        if i in b:\n",
    "            res.append(i)\n",
    "            b.remove(i)\n",
    "    return res\n",
    "    ..."
   ]
  },
  {
   "cell_type": "code",
   "execution_count": 88,
   "id": "897c4fa0",
   "metadata": {
    "deletable": false,
    "editable": false
   },
   "outputs": [
    {
     "data": {
      "text/html": [
       "<p><strong><pre style='display: inline;'>q1_b</pre></strong> passed!</p>"
      ],
      "text/plain": [
       "q1_b results: All test cases passed!"
      ]
     },
     "execution_count": 88,
     "metadata": {},
     "output_type": "execute_result"
    }
   ],
   "source": [
    "grader.check(\"q1_b\")"
   ]
  },
  {
   "cell_type": "markdown",
   "id": "0ed1a0b4",
   "metadata": {},
   "source": [
    "### Question 2\n",
    "(8 points)\n",
    "\n",
    "The scalar triple product of three vectors is defined as:\n",
    "\n",
    "$$\n",
    "a.(b \\times c)\n",
    "$$\n",
    "\n",
    "Write a function that calculates the scalar triple product of three vectors, a, b, and c."
   ]
  },
  {
   "cell_type": "code",
   "execution_count": 89,
   "id": "53bf87a5",
   "metadata": {
    "tags": []
   },
   "outputs": [],
   "source": [
    "def striple_prod(a,b,c):\n",
    "    '''Returns the scalar triple product of three vectors A, B, and C. \n",
    "    '''\n",
    "    corss=[]\n",
    "    res=0\n",
    "    if len(a)!=len(b) or len(b)!=len(c) or len(a)!=len(c):\n",
    "        print(\"Wrong szie\")\n",
    "    else:\n",
    "        cross=[b[0]*c[2]-c[1]*b[2], b[2]*c[0]-b[0]*c[2], b[0]*c[1]-b[1]*c[0]]\n",
    "        for i, j in zip(a, cross):\n",
    "            res=res+i*j\n",
    "    return res\n",
    "    ..."
   ]
  },
  {
   "cell_type": "code",
   "execution_count": 91,
   "id": "80923743",
   "metadata": {
    "deletable": false,
    "editable": false
   },
   "outputs": [
    {
     "data": {
      "text/html": [
       "<p><strong><pre style='display: inline;'>q2_b</pre></strong> passed!</p>"
      ],
      "text/plain": [
       "q2_b results: All test cases passed!"
      ]
     },
     "execution_count": 91,
     "metadata": {},
     "output_type": "execute_result"
    }
   ],
   "source": [
    "grader.check(\"q2_b\")"
   ]
  },
  {
   "cell_type": "markdown",
   "id": "14ee8c87",
   "metadata": {},
   "source": [
    "### Question 3\n",
    "(10 points)\n",
    "\n",
    "Write a function that, given a piece of text, calculates the most frequently occuring letter.\n"
   ]
  },
  {
   "cell_type": "code",
   "execution_count": 5,
   "id": "89928b6e",
   "metadata": {
    "tags": []
   },
   "outputs": [],
   "source": [
    "def freq_letters(text):\n",
    "    '''\n",
    "    For textual input, returns the most frequently occuring letter \n",
    "    (your function should be case-insensitive)\n",
    "    '''\n",
    "    alpha=[]\n",
    "    for i in text:\n",
    "        if str.isalpha(i)==True:\n",
    "            alpha.append(i)\n",
    "            \n",
    "    res={}\n",
    "    for j in alpha:\n",
    "        res[j]=alpha.count(j)\n",
    "        \n",
    "    for val in res.values():\n",
    "        return max(res)\n",
    "    ..."
   ]
  },
  {
   "cell_type": "code",
   "execution_count": 6,
   "id": "f1c255ab",
   "metadata": {
    "deletable": false,
    "editable": false
   },
   "outputs": [
    {
     "data": {
      "text/html": [
       "<p><strong><pre style='display: inline;'>q3_b_1</pre></strong> passed!</p><p><strong><pre style='display: inline;'>q3_b_1 - 1</pre> message:</strong> Good job!</p>"
      ],
      "text/plain": [
       "q3_b_1 results: All test cases passed!\n",
       "q3_b_1 - 1 message: Good job!"
      ]
     },
     "execution_count": 6,
     "metadata": {},
     "output_type": "execute_result"
    }
   ],
   "source": [
    "grader.check(\"q3_b_1\")"
   ]
  },
  {
   "cell_type": "markdown",
   "id": "275c24ff",
   "metadata": {},
   "source": [
    "Write a second function that returns the number of vowels and consonants in the text."
   ]
  },
  {
   "cell_type": "code",
   "execution_count": 7,
   "id": "40bb89e7",
   "metadata": {
    "tags": []
   },
   "outputs": [],
   "source": [
    "def vowels(text):\n",
    "    '''\n",
    "    For textual input, returns the number of vowels and consonants.\n",
    "    Return a tuple with number of vowels as the first element and consonants\n",
    "    as the second element, i.e (num_vowels, num_consonant)\n",
    "    '''\n",
    "    vowels=list('aeiouAEIOU')\n",
    "    consonant=list('bcdfghjklmnpqrstvwxyzBCDFGHJKLMNPQRSTVWXYZ')\n",
    "    alpha=[]\n",
    "    for i in text:\n",
    "        if str.isalpha(i)==True:\n",
    "            alpha.append(i)\n",
    "            \n",
    "    num_vowels=0\n",
    "    num_consonant=0\n",
    "    for j in alpha:\n",
    "        if j in vowels:\n",
    "            num_vowels+=1\n",
    "        elif j in consonant:\n",
    "            num_consonant+=1\n",
    "    print (\"(\", num_vowels, \", \", num_consonant, \")\", sep='')\n",
    "    ..."
   ]
  },
  {
   "cell_type": "code",
   "execution_count": 8,
   "id": "e50a732c",
   "metadata": {
    "deletable": false,
    "editable": false
   },
   "outputs": [
    {
     "data": {
      "text/html": [
       "<p><strong style='color: red;'><pre style='display: inline;'>q3_b_2</pre> results:</strong></p><p><strong><pre style='display: inline;'>q3_b_2 - 1</pre> result:</strong></p><pre>    Trying:\n",
       "        vowels('I like banana!!') == (6, 5)\n",
       "    Expecting:\n",
       "        True\n",
       "    **********************************************************************\n",
       "    Line 1, in q3_b_2 0\n",
       "    Failed example:\n",
       "        vowels('I like banana!!') == (6, 5)\n",
       "    Expected:\n",
       "        True\n",
       "    Got:\n",
       "        (6, 5)\n",
       "        False\n",
       "</pre>"
      ],
      "text/plain": [
       "q3_b_2 results:\n",
       "    q3_b_2 - 1 result:\n",
       "        Trying:\n",
       "            vowels('I like banana!!') == (6, 5)\n",
       "        Expecting:\n",
       "            True\n",
       "        **********************************************************************\n",
       "        Line 1, in q3_b_2 0\n",
       "        Failed example:\n",
       "            vowels('I like banana!!') == (6, 5)\n",
       "        Expected:\n",
       "            True\n",
       "        Got:\n",
       "            (6, 5)\n",
       "            False"
      ]
     },
     "execution_count": 8,
     "metadata": {},
     "output_type": "execute_result"
    }
   ],
   "source": [
    "grader.check(\"q3_b_2\")"
   ]
  },
  {
   "cell_type": "markdown",
   "id": "2f9c1b9a",
   "metadata": {},
   "source": [
    "## Part C\n",
    "\n",
    "The question in this part of the assignment is intended to:\n",
    "\n",
    "  1) Illuminate how what you already know is useful in this context.\n",
    "  \n",
    "  2) Provide an exercise in writing about coding concepts and ideas and using the relevant language and terminology. \n",
    "  \n",
    "  3) Demonstrate your understanding of the assignment material in a different format.\n"
   ]
  },
  {
   "cell_type": "markdown",
   "id": "08705d99",
   "metadata": {},
   "source": [
    "<!-- BEGIN QUESTION -->\n",
    "\n",
    "### Question 1 \n",
    "(3 points) \n",
    "\n",
    "In 100 to 250 words identify a concept you have found difficult or confusing from this assignment. Reflect on how your previous learning or experience helped you to understand this concept. Provide your reflection using markdown in the cell below. "
   ]
  },
  {
   "cell_type": "markdown",
   "id": "ad22523b",
   "metadata": {},
   "source": [
    "The most difficult Part for me was Part B Question 3, because I was trapped by how to make function return the letter corresponding to the highest number of occurrences after counting the number of occurrences of each letter. So, I reviewed my notes from my undergraduate Python class and finally I found that Dictionary is used to store data in pairs like \"key: value\", then the last question was solved: I created an empty dictionary with each letter as a key, and each number of occurrences as a value, finally let function return the key corresponding to the largest value."
   ]
  },
  {
   "cell_type": "markdown",
   "id": "0332fa23",
   "metadata": {},
   "source": [
    "<!-- END QUESTION -->\n",
    "\n",
    "## Submission\n",
    "\n",
    "Make sure you have run all cells in your notebook and that your code works as expected. Save your notebook and upload it to <a href=https://www.gradescope.ca >Gradescope</a>\n",
    "**Please save (ctrl+s) before uploading!**"
   ]
  },
  {
   "cell_type": "code",
   "execution_count": null,
   "id": "74f7321d",
   "metadata": {},
   "outputs": [],
   "source": []
  }
 ],
 "metadata": {
  "kernelspec": {
   "display_name": "Python 3 (ipykernel)",
   "language": "python",
   "name": "python3"
  },
  "language_info": {
   "codemirror_mode": {
    "name": "ipython",
    "version": 3
   },
   "file_extension": ".py",
   "mimetype": "text/x-python",
   "name": "python",
   "nbconvert_exporter": "python",
   "pygments_lexer": "ipython3",
   "version": "3.10.5"
  },
  "otter": {
   "OK_FORMAT": true,
   "tests": {
    "q1_a": {
     "name": "q1_a",
     "points": 3,
     "suites": [
      {
       "cases": [
        {
         "code": ">>> cent_binomial_coef(0) == 1\nTrue",
         "failure_message": "Don't forget (0)! is 1.",
         "hidden": false,
         "locked": false,
         "points": 0
        },
        {
         "code": ">>> cent_binomial_coef(1) == 2\nTrue",
         "hidden": false,
         "locked": false,
         "points": 0
        }
       ],
       "scored": true,
       "setup": "",
       "teardown": "",
       "type": "doctest"
      }
     ]
    },
    "q1_b": {
     "name": "q1_b",
     "points": 5,
     "suites": [
      {
       "cases": [
        {
         "code": ">>> def testcase1(intersection_list):\n...     temp = intersection_list([2,1,2,5,3,1], [2,1,7,1])\n...     length = len(temp)\n...     ones = temp.count(1)\n...     twos = temp.count(2)\n...     assert (length, ones, twos) == (3, 2, 1)\n>>> testcase1(intersection_list)\n",
         "hidden": false,
         "locked": false,
         "points": 0
        }
       ],
       "scored": true,
       "setup": "",
       "teardown": "",
       "type": "doctest"
      }
     ]
    },
    "q2_a": {
     "name": "q2_a",
     "points": 8,
     "suites": [
      {
       "cases": [
        {
         "code": ">>> is_prime(2) == True\nTrue",
         "hidden": false,
         "locked": false,
         "points": 0
        },
        {
         "code": ">>> is_prime(3) == True\nTrue",
         "hidden": false,
         "locked": false,
         "points": 0
        },
        {
         "code": ">>> is_prime(4) == False\nTrue",
         "hidden": false,
         "locked": false,
         "points": 0
        }
       ],
       "scored": true,
       "setup": "",
       "teardown": "",
       "type": "doctest"
      }
     ]
    },
    "q2_b": {
     "name": "q2_b",
     "points": 8,
     "suites": [
      {
       "cases": [
        {
         "code": ">>> striple_prod([5, 1, 2], [-1]*3, [2, 1, 0]) == 5\nTrue",
         "hidden": false,
         "locked": false,
         "points": 0
        }
       ],
       "scored": true,
       "setup": "",
       "teardown": "",
       "type": "doctest"
      }
     ]
    },
    "q3_a": {
     "name": "q3_a",
     "points": 5,
     "suites": [
      {
       "cases": [
        {
         "code": ">>> population(5.7) == 16\nTrue",
         "hidden": false,
         "locked": false,
         "points": 0
        },
        {
         "code": ">>> population(2.9) == 12\nTrue",
         "hidden": false,
         "locked": false,
         "points": 0
        }
       ],
       "scored": true,
       "setup": "",
       "teardown": "",
       "type": "doctest"
      }
     ]
    },
    "q3_b_1": {
     "name": "q3_b_1",
     "points": 5,
     "suites": [
      {
       "cases": [
        {
         "code": ">>> freq_letters('a!!!!!').lower() == 'a'\nTrue",
         "failure_message": "You should only count letters a-z and not numbers, punctuation, spaces, etc.",
         "hidden": false,
         "locked": false,
         "points": 0,
         "success_message": "Good job!"
        }
       ],
       "scored": true,
       "setup": "",
       "teardown": "",
       "type": "doctest"
      }
     ]
    },
    "q3_b_2": {
     "name": "q3_b_2",
     "points": 5,
     "suites": [
      {
       "cases": [
        {
         "code": ">>> vowels('I like banana!!') == (6, 5)\nTrue",
         "hidden": false,
         "locked": false,
         "points": 0
        }
       ],
       "scored": true,
       "setup": "",
       "teardown": "",
       "type": "doctest"
      }
     ]
    }
   }
  }
 },
 "nbformat": 4,
 "nbformat_minor": 5
}
